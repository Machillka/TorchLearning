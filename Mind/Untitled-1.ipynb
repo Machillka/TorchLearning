{
 "cells": [
  {
   "cell_type": "markdown",
   "metadata": {},
   "source": [
    "## 利用梯度大小推断相关度\n",
    "\n",
    "归因分析技术"
   ]
  },
  {
   "cell_type": "code",
   "execution_count": 36,
   "metadata": {},
   "outputs": [],
   "source": [
    "import torch\n",
    "import numpy\n",
    "import torch.nn.functional as F\n",
    "import matplotlib.pyplot as plt\n",
    "from IPython import display\n",
    "from torch.utils.data import DataLoader\n",
    "from torchvision import datasets\n",
    "from torch import tensor, nn\n",
    "from torchvision.transforms import ToTensor\n",
    "%matplotlib inline"
   ]
  },
  {
   "cell_type": "code",
   "execution_count": 37,
   "metadata": {},
   "outputs": [],
   "source": [
    "trainData = datasets.MNIST(\n",
    "    root = \"../Database\",\n",
    "    train = True,\n",
    "    download = False,\n",
    "    transform = ToTensor(),\n",
    ")\n",
    "\n",
    "dataSet = DataLoader(trainData,  shuffle = True)"
   ]
  },
  {
   "cell_type": "code",
   "execution_count": 38,
   "metadata": {},
   "outputs": [],
   "source": [
    "class Network(nn.Module):\n",
    "    def __init__(self):\n",
    "        super(Network, self).__init__()\n",
    "        self.conv1 = nn.Sequential(\n",
    "            nn.Conv2d(1, 8, 3, 1, 1),\n",
    "            nn.LeakyReLU(),\n",
    "            nn.MaxPool2d(2, 2),\n",
    "        )\n",
    "\n",
    "        self.conv2 = nn.Sequential(\n",
    "            nn.Conv2d(8, 16, 3, 1, 1),\n",
    "            nn.LeakyReLU(),\n",
    "            nn.MaxPool2d(2, 2)\n",
    "        )\n",
    "\n",
    "        self.cls = nn.Sequential(\n",
    "            nn.Linear(16 * 7 * 7, 64),\n",
    "            nn.LeakyReLU(),\n",
    "            nn.Linear(64, 10)\n",
    "        )\n",
    "    def forward(self, inputImg):\n",
    "        batchSize = inputImg.size(0)\n",
    "\n",
    "        # maxpooling 下采样, h, w 减半\n",
    "        x = self.conv1(inputImg)\n",
    "        assert x.shape == (batchSize, 8, 14, 14), \"Shape Error\"\n",
    "\n",
    "        x = self.conv2(x)\n",
    "        assert x.shape == (batchSize, 16, 7, 7), \"Shape Error\"\n",
    "\n",
    "        x = x.reshape(batchSize, -1)\n",
    "        x = self.cls(x)\n",
    "        return x"
   ]
  },
  {
   "cell_type": "code",
   "execution_count": 39,
   "metadata": {},
   "outputs": [],
   "source": [
    "model = Network()\n",
    "optimizer = torch.optim.AdamW(model.parameters(), lr =  3e-3)\n",
    "LossFunction = nn.CrossEntropyLoss()"
   ]
  },
  {
   "cell_type": "code",
   "execution_count": 40,
   "metadata": {},
   "outputs": [
    {
     "name": "stdout",
     "output_type": "stream",
     "text": [
      "Epoch:0, Index0, Loss2.4062211513519287\n",
      "Epoch:0, Index1000, Loss4.925690650939941\n",
      "Epoch:0, Index2000, Loss0.0014835315523669124\n",
      "Epoch:0, Index3000, Loss4.937036991119385\n",
      "Epoch:0, Index4000, Loss0.0004864939546678215\n",
      "Epoch:0, Index5000, Loss0.08813183009624481\n",
      "Epoch:0, Index6000, Loss0.0021360930986702442\n",
      "Epoch:0, Index7000, Loss0.013731422834098339\n",
      "Epoch:0, Index8000, Loss0.000402250443585217\n",
      "Epoch:0, Index9000, Loss0.0002383901592111215\n",
      "Epoch:0, Index10000, Loss0.0003328961320221424\n"
     ]
    },
    {
     "ename": "AttributeError",
     "evalue": "'dict' object has no attribute 'append'",
     "output_type": "error",
     "traceback": [
      "\u001b[1;31m---------------------------------------------------------------------------\u001b[0m",
      "\u001b[1;31mAttributeError\u001b[0m                            Traceback (most recent call last)",
      "Cell \u001b[1;32mIn[40], line 23\u001b[0m\n\u001b[0;32m     21\u001b[0m         \u001b[38;5;28;01mbreak\u001b[39;00m\n\u001b[0;32m     22\u001b[0m     eopchLoss \u001b[38;5;241m+\u001b[39m\u001b[38;5;241m=\u001b[39m loss\u001b[38;5;241m.\u001b[39mitem()\n\u001b[1;32m---> 23\u001b[0m \u001b[43mhistory\u001b[49m\u001b[38;5;241;43m.\u001b[39;49m\u001b[43mappend\u001b[49m(eopchLoss)\n\u001b[0;32m     24\u001b[0m display\u001b[38;5;241m.\u001b[39mclear_output()\n\u001b[0;32m     25\u001b[0m \u001b[38;5;28;01mbreak\u001b[39;00m\n",
      "\u001b[1;31mAttributeError\u001b[0m: 'dict' object has no attribute 'append'"
     ]
    }
   ],
   "source": [
    "history = {\n",
    "    'loss':[]\n",
    "}\n",
    "\n",
    "for i in range(5):\n",
    "    eopchLoss = 0.\n",
    "    for index, data in enumerate(dataSet):\n",
    "        img, label = data\n",
    "        \n",
    "        prediction = model(img)\n",
    "        loss = LossFunction(prediction, label)\n",
    "        \n",
    "        optimizer.zero_grad()\n",
    "        loss.backward()\n",
    "        optimizer.step()\n",
    "\n",
    "        if index % 1000 == 0:\n",
    "            print(\"Epoch: {}, Index: {}, Loss: {}\".format(i, index, loss.item()))\n",
    "            torch.save(model.state_dict(), '../SavedModel/CNN/MNISTLE.pth')\n",
    "        if index > 10000:\n",
    "            break\n",
    "        eopchLoss += loss.item()\n",
    "    history['loss'].append(eopchLoss)\n",
    "    display.clear_output()\n",
    "    break"
   ]
  },
  {
   "cell_type": "code",
   "execution_count": 46,
   "metadata": {},
   "outputs": [
    {
     "data": {
      "text/plain": [
       "<All keys matched successfully>"
      ]
     },
     "execution_count": 46,
     "metadata": {},
     "output_type": "execute_result"
    }
   ],
   "source": [
    "model = Network()\n",
    "model.load_state_dict(torch.load('../SavedModel/CNN/MNISTLE.pth'))\n",
    "# model.eval()"
   ]
  },
  {
   "cell_type": "code",
   "execution_count": 47,
   "metadata": {},
   "outputs": [
    {
     "data": {
      "image/png": "[encoded data removed]",
      "text/plain": [
       "<Figure size 640x480 with 1 Axes>"
      ]
     },
     "metadata": {},
     "output_type": "display_data"
    }
   ],
   "source": [
    "img, label = trainData[1]\n",
    "plt.imshow(img.transpose(0, 2), cmap = 'gray')\n",
    "img = img.unsqueeze(0)"
   ]
  },
  {
   "cell_type": "code",
   "execution_count": 50,
   "metadata": {},
   "outputs": [],
   "source": [
    "prediction = model(img)\n",
    "loss = LossFunction(prediction, tensor([label]))\n",
    "loss.backward()"
   ]
  },
  {
   "cell_type": "code",
   "execution_count": 56,
   "metadata": {},
   "outputs": [
    {
     "name": "stdout",
     "output_type": "stream",
     "text": [
      "Parameter containing:\n",
      "tensor([[[[ 0.1106, -0.3270, -0.3046],\n",
      "          [ 0.0869, -0.1525,  0.2895],\n",
      "          [ 0.1068,  0.0417,  0.2504]]],\n",
      "\n",
      "\n",
      "        [[[-0.5324,  0.2282,  0.5367],\n",
      "          [-0.0388,  0.1434,  0.0590],\n",
      "          [ 0.1016, -0.1549,  0.1556]]],\n",
      "\n",
      "\n",
      "        [[[ 0.2574,  0.2072,  0.0667],\n",
      "          [-0.3605, -0.2258,  0.3402],\n",
      "          [-0.4360, -0.0507,  0.3621]]],\n",
      "\n",
      "\n",
      "        [[[ 0.0700, -0.4419, -0.8311],\n",
      "          [ 0.1333, -0.0695, -0.2870],\n",
      "          [ 0.4066,  0.3826,  0.0632]]],\n",
      "\n",
      "\n",
      "        [[[ 0.5618, -0.4319, -0.6912],\n",
      "          [-0.0775, -0.3059, -0.3567],\n",
      "          [-0.3509, -0.4049, -0.4526]]],\n",
      "\n",
      "\n",
      "        [[[-0.1576,  0.0383, -0.1004],\n",
      "          [-0.0892, -0.0440, -0.1786],\n",
      "          [ 0.0380,  0.0591,  0.0657]]],\n",
      "\n",
      "\n",
      "        [[[ 0.0622,  0.3125,  0.2090],\n",
      "          [ 0.2140,  0.2164,  0.1320],\n",
      "          [-0.2039,  0.2356,  0.0715]]],\n",
      "\n",
      "\n",
      "        [[[ 0.0223,  0.4653,  0.4312],\n",
      "          [-0.1083,  0.1763, -0.1251],\n",
      "          [-0.5054, -0.7925, -0.4081]]]], requires_grad=True)\n",
      "Parameter containing:\n",
      "tensor([-0.1618, -0.1430, -0.2334, -0.1453,  0.0482, -0.2015, -0.3962, -0.0140],\n",
      "       requires_grad=True)\n"
     ]
    }
   ],
   "source": [
    "for p in model.conv1.parameters():\n",
    "    print(p)"
   ]
  }
 ],
 "metadata": {
  "kernelspec": {
   "display_name": "Python 3",
   "language": "python",
   "name": "python3"
  },
  "language_info": {
   "codemirror_mode": {
    "name": "ipython",
    "version": 3
   },
   "file_extension": ".py",
   "mimetype": "text/x-python",
   "name": "python",
   "nbconvert_exporter": "python",
   "pygments_lexer": "ipython3",
   "version": "3.10.11"
  }
 },
 "nbformat": 4,
 "nbformat_minor": 2
}
