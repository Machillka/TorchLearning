{
 "cells": [
  {
   "cell_type": "code",
   "execution_count": 9,
   "metadata": {},
   "outputs": [],
   "source": [
    "import torch\n",
    "import numpy as np\n",
    "import torch.nn.functional as torchF\n",
    "import torch.nn as torchNN\n",
    "import matplotlib.pyplot as plt\n",
    "from IPython import display\n",
    "from torchvision import datasets\n",
    "from torch.utils.data import DataLoader\n",
    "from torchvision.transforms import ToTensor, Lambda, Compose\n",
    "%matplotlib inline"
   ]
  },
  {
   "cell_type": "code",
   "execution_count": 10,
   "metadata": {},
   "outputs": [
    {
     "name": "stdout",
     "output_type": "stream",
     "text": [
      "Files already downloaded and verified\n"
     ]
    }
   ],
   "source": [
    "trainingData = datasets.CIFAR10(\n",
    "    root = \"../Database\",\n",
    "    train = True,\n",
    "    download = True,\n",
    "    transform = ToTensor(),\n",
    ")"
   ]
  },
  {
   "cell_type": "code",
   "execution_count": 11,
   "metadata": {},
   "outputs": [],
   "source": [
    "BATCHSIZE = 64\n",
    "trainData = DataLoader(trainingData, batch_size = BATCHSIZE)"
   ]
  },
  {
   "cell_type": "code",
   "execution_count": 12,
   "metadata": {},
   "outputs": [],
   "source": [
    "class Network(torchNN.Module):\n",
    "    def __init__(self):\n",
    "        super(Network, self).__init__()\n",
    "\n",
    "        # self.conv1 = torchNN.Conv2d(\n",
    "        #     in_channels = 3,\n",
    "        #     out_channels = 6,\n",
    "        #     kernel_size = 5,\n",
    "        #     stride = 1,\n",
    "        #     padding = 2\n",
    "        # )\n",
    "        \n",
    "        # self.pool = torchNN.MaxPool2d(\n",
    "        #     kernel_size = 2, \n",
    "        #     stride = 2\n",
    "        # )\n",
    "\n",
    "        # self.conv2 = torchNN.Conv2d(\n",
    "        #     in_channels = 6,\n",
    "        #     out_channels = 16,\n",
    "        #     kernel_size = 5,\n",
    "        #     stride = 1,\n",
    "        #     padding = 2\n",
    "        # )\n",
    "\n",
    "        # self.liner1 = torchNN.Linear(16 * 5 * 5, 128)\n",
    "        # self.liner2 = torchNN.Linear(120, 32)\n",
    "        # self.liner3 = torchNN.Linear(32, 10)\n",
    "\n",
    "        self.conv1 = torchNN.Sequential(\n",
    "            torchNN.Conv2d(\n",
    "                in_channels = 3,\n",
    "                out_channels = 16,\n",
    "                kernel_size = 5,\n",
    "                stride = 1,\n",
    "                padding = 2\n",
    "            ),\n",
    "            # torchF.leaky_relu(),\n",
    "            torchNN.LeakyReLU(),\n",
    "            torchNN.MaxPool2d(2)\n",
    "        )\n",
    "        \n",
    "\n",
    "        self.conv2 = torchNN.Sequential(\n",
    "            torchNN.Conv2d(\n",
    "                in_channels = 16,\n",
    "                out_channels = 32,\n",
    "                kernel_size = 5,\n",
    "                stride = 1,\n",
    "                padding = 2\n",
    "            ),\n",
    "            # torchF.leaky_relu(),\n",
    "            torchNN.LeakyReLU(),\n",
    "            torchNN.MaxPool2d(2)\n",
    "        )\n",
    "\n",
    "        self.liner = torchNN.Sequential(\n",
    "            torchNN.Linear(32 * 8 * 8, 64),\n",
    "            torchNN.LeakyReLU(),\n",
    "            torchNN.Linear(64, 32),\n",
    "            torchNN.LeakyReLU(),\n",
    "            torchNN.Linear(32, 10)\n",
    "        )\n",
    "\n",
    "    \n",
    "    def forward(self, inputData):\n",
    "        x = self.conv1(inputData)\n",
    "        x = self.conv2(x)\n",
    "        x = x.view(x.size(0), -1)\n",
    "        x = self.liner(x)\n",
    "        return x\n",
    "    \n"
   ]
  },
  {
   "cell_type": "code",
   "execution_count": 13,
   "metadata": {},
   "outputs": [],
   "source": [
    "model = Network()\n",
    "\n",
    "lossFunction = torchNN.CrossEntropyLoss()\n",
    "optimizer = torch.optim.SGD(model.parameters(), lr = 0.001, momentum = 0.9)\n"
   ]
  },
  {
   "cell_type": "code",
   "execution_count": 18,
   "metadata": {},
   "outputs": [
    {
     "name": "stdout",
     "output_type": "stream",
     "text": [
      "{'loss': [19.200068905949593, 18.13692815043032]}\n"
     ]
    }
   ],
   "source": [
    "history = {\n",
    "    'loss':[]\n",
    "}\n",
    "for epoch in range(2):\n",
    "    runtimeLoss = 0.0\n",
    "\n",
    "    for i, data in enumerate(trainData):\n",
    "        inputs, labels = data\n",
    "        optimizer.zero_grad()\n",
    "\n",
    "        outputs = model(inputs)\n",
    "        loss = lossFunction(outputs, labels)\n",
    "        loss.backward()\n",
    "        optimizer.step()\n",
    "\n",
    "        runtimeLoss += loss.item()\n",
    "    print(\"EPOCH %d, loss = %.3f\" % (epoch, runtimeLoss / BATCHSIZE))\n",
    "    history['loss'].append(runtimeLoss / BATCHSIZE)\n",
    "print(history['loss'])"
   ]
  }
 ],
 "metadata": {
  "kernelspec": {
   "display_name": "Python 3",
   "language": "python",
   "name": "python3"
  },
  "language_info": {
   "codemirror_mode": {
    "name": "ipython",
    "version": 3
   },
   "file_extension": ".py",
   "mimetype": "text/x-python",
   "name": "python",
   "nbconvert_exporter": "python",
   "pygments_lexer": "ipython3",
   "version": "3.10.11"
  }
 },
 "nbformat": 4,
 "nbformat_minor": 2
}
