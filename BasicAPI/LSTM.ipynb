{
 "cells": [
  {
   "cell_type": "code",
   "execution_count": 1,
   "metadata": {},
   "outputs": [],
   "source": [
    "import torch\n",
    "import torch.nn as torchNN"
   ]
  },
  {
   "cell_type": "code",
   "execution_count": null,
   "metadata": {},
   "outputs": [],
   "source": [
    "class LSTM(torchNN.Module):\n",
    "    def __init__(self, layer, units, inputShape):\n",
    "        self.lstm = torchNN.LSTM(\n",
    "            inputShape,\n",
    "            units,\n",
    "            layer,\n",
    "            batch_first = True\n",
    "        )\n",
    "\n",
    "        self.layer = layer\n",
    "        self.units = units\n",
    "        self.inputShape = inputShape\n",
    "\n",
    "    def forward(self, inputData, hidden): ...\n",
    "\n",
    "    def InitHidden(self, batchSize): ...\n"
   ]
  }
 ],
 "metadata": {
  "kernelspec": {
   "display_name": "Python 3",
   "language": "python",
   "name": "python3"
  },
  "language_info": {
   "codemirror_mode": {
    "name": "ipython",
    "version": 3
   },
   "file_extension": ".py",
   "mimetype": "text/x-python",
   "name": "python",
   "nbconvert_exporter": "python",
   "pygments_lexer": "ipython3",
   "version": "3.10.11"
  }
 },
 "nbformat": 4,
 "nbformat_minor": 2
}
