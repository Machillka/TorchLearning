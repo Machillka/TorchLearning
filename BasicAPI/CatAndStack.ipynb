{
 "cells": [
  {
   "cell_type": "code",
   "execution_count": 1,
   "metadata": {},
   "outputs": [],
   "source": [
    "import torch\n",
    "import numpy as np"
   ]
  },
  {
   "cell_type": "code",
   "execution_count": 2,
   "metadata": {},
   "outputs": [
    {
     "name": "stdout",
     "output_type": "stream",
     "text": [
      "tensor([[ 1.,  2.,  3.,  4.],\n",
      "        [ 2.,  3.,  4., -1.],\n",
      "        [ 5.,  6.,  7.,  4.],\n",
      "        [ 8.,  9.,  0., -1.]]) torch.Size([4, 4])\n",
      "tensor([[[ 1.,  5.],\n",
      "         [ 2.,  6.],\n",
      "         [ 3.,  7.],\n",
      "         [ 4.,  4.]],\n",
      "\n",
      "        [[ 2.,  8.],\n",
      "         [ 3.,  9.],\n",
      "         [ 4.,  0.],\n",
      "         [-1., -1.]]]) torch.Size([2, 4, 2])\n"
     ]
    }
   ],
   "source": [
    "A = torch.Tensor([[1, 2, 3, 4], [2, 3, 4, -1]])\n",
    "B = torch.Tensor([[5, 6, 7, 4], [8, 9, 0, -1]])\n",
    "\n",
    "C = torch.cat((A, B))\n",
    "print(C, C.shape)\n",
    "C = torch.stack((A, B), 2)\n",
    "print(C, C.shape)"
   ]
  },
  {
   "cell_type": "markdown",
   "metadata": {},
   "source": [
    "Cat and Stack are all designed for montage Tensor\n",
    "\n",
    "Cat is a function that can join tensors in the dimension you need, so it can be used in math calculation\n",
    "\n",
    "Stack Function can join the tensors into one tensor which is high leveled with a batch dimension, so it is easy to use in generate train data to feed network\n"
   ]
  },
  {
   "cell_type": "code",
   "execution_count": 4,
   "metadata": {},
   "outputs": [
    {
     "name": "stdout",
     "output_type": "stream",
     "text": [
      "torch.Size([2, 1, 210, 160])\n"
     ]
    }
   ],
   "source": [
    "a = torch.rand(1, 210, 160)\n",
    "b = torch.rand(1, 210, 160)\n",
    "\n",
    "c = torch.stack((a, b))\n",
    "print(c.size())"
   ]
  }
 ],
 "metadata": {
  "kernelspec": {
   "display_name": "Python 3",
   "language": "python",
   "name": "python3"
  },
  "language_info": {
   "codemirror_mode": {
    "name": "ipython",
    "version": 3
   },
   "file_extension": ".py",
   "mimetype": "text/x-python",
   "name": "python",
   "nbconvert_exporter": "python",
   "pygments_lexer": "ipython3",
   "version": "3.10.11"
  }
 },
 "nbformat": 4,
 "nbformat_minor": 2
}
