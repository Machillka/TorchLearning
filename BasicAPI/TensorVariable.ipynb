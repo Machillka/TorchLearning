{
 "cells": [
  {
   "cell_type": "code",
   "execution_count": 1,
   "metadata": {},
   "outputs": [],
   "source": [
    "import numpy as np\n",
    "import torch\n",
    "import torch.nn as torchNN\n",
    "import torch.nn.functional as torchF\n",
    "import matplotlib.pyplot as plt\n",
    "\n",
    "%matplotlib inline"
   ]
  },
  {
   "cell_type": "code",
   "execution_count": 22,
   "metadata": {},
   "outputs": [
    {
     "name": "stdout",
     "output_type": "stream",
     "text": [
      "<class 'torch.Tensor'>\n",
      "tensor([[1., 3., 5.],\n",
      "        [2., 3., 4.]])\n",
      "tensor([[ 2.,  6., 10.],\n",
      "        [ 4.,  6.,  8.]])\n",
      "tensor([[ 2.,  6., 10.],\n",
      "        [ 4.,  6.,  8.]])\n",
      "tensor([0.2533, 0.5410, 0.7138, 0.2569, 0.7713])\n",
      "tensor(1.2344)\n",
      "tensor([0.2533, 0.5410, 0.7138, 0.2569, 0.7713])\n"
     ]
    }
   ],
   "source": [
    "# Tensor is not involved in the backward\n",
    "v = torch.FloatTensor([[1, 2, 3], [4, 5, 6]])\n",
    "print(type(v))\n",
    "\n",
    "base1 = np.array([[1, 3, 5], [2, 3, 4]])\n",
    "\n",
    "v = torch.Tensor(base1)\n",
    "print(v)\n",
    "\n",
    "u = torch.FloatTensor(base1)\n",
    "\n",
    "print(v + u)\n",
    "print(v * 2)\n",
    "\n",
    "base2 = torch.rand(5)\n",
    "print(base2)\n",
    "print(base2.dot(torch.rand(5)))             # do not change the base2\n",
    "print(base2)"
   ]
  },
  {
   "cell_type": "code",
   "execution_count": 35,
   "metadata": {},
   "outputs": [
    {
     "name": "stdout",
     "output_type": "stream",
     "text": [
      "tensor([[1., 3., 5.],\n",
      "        [2., 3., 4.]], requires_grad=True)\n",
      "tensor(10.6667, grad_fn=<MeanBackward0>)\n",
      "tensor([[0.3333, 1.0000, 1.6667],\n",
      "        [0.6667, 1.0000, 1.3333]])\n"
     ]
    }
   ],
   "source": [
    "from torch.autograd import Variable\n",
    "\n",
    "v = Variable(v, requires_grad = True)\n",
    "print(v)\n",
    "\n",
    "loss = torch.mean(v ** 2)                # 1/n sigma(x_i ^ 2)\n",
    "print(loss)\n",
    "loss.backward()                         # 对 x 求梯度\n",
    "print(v.grad)"
   ]
  }
 ],
 "metadata": {
  "kernelspec": {
   "display_name": "Python 3",
   "language": "python",
   "name": "python3"
  },
  "language_info": {
   "codemirror_mode": {
    "name": "ipython",
    "version": 3
   },
   "file_extension": ".py",
   "mimetype": "text/x-python",
   "name": "python",
   "nbconvert_exporter": "python",
   "pygments_lexer": "ipython3",
   "version": "3.10.11"
  }
 },
 "nbformat": 4,
 "nbformat_minor": 2
}
