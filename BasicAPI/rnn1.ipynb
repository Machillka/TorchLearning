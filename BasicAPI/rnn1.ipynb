{
 "cells": [
  {
   "cell_type": "code",
   "execution_count": 8,
   "metadata": {},
   "outputs": [],
   "source": [
    "import torch\n",
    "import numpy as np\n",
    "import torch.nn as torchNN\n",
    "import torch.nn.functional as torchF\n",
    "import matplotlib.pyplot as plt\n",
    "\n",
    "%matplotlib inline"
   ]
  },
  {
   "cell_type": "code",
   "execution_count": 9,
   "metadata": {},
   "outputs": [
    {
     "name": "stdout",
     "output_type": "stream",
     "text": [
      "torch.Size([5, 2, 6])\n"
     ]
    }
   ],
   "source": [
    "dataX = torch.tensor([[1, 2], [2, 3], [3, 4], [4, 5], [5, 1]])\n",
    "dataY = torch.tensor([3, 4, 5, 1, 2])\n",
    "\n",
    "dataX = torchF.one_hot(dataX).type(torch.FloatTensor)\n",
    "print(dataX.shape)\n"
   ]
  },
  {
   "cell_type": "code",
   "execution_count": 10,
   "metadata": {},
   "outputs": [],
   "source": [
    "class Network(torchNN.Module):\n",
    "    def __init__(self, BATCHSIZE, hiddenLayers, hiddenUnits) -> None:\n",
    "        super(Network, self).__init__()\n",
    "\n",
    "        self.rnn = torchNN.RNN(\n",
    "            input_size = 6,                                 # 每个字符编码维度\n",
    "            hidden_size = hiddenUnits,                      # 每一层神经元个数\n",
    "            num_layers = hiddenLayers,                      # RNN 层的数量\n",
    "            batch_first = True,                             # 令输入的第一个维度为 BATCH SIZE\n",
    "        )\n",
    "    \n",
    "        for layer in self.rnn.parameters():\n",
    "            torchNN.init.normal_(layer, mean = 0.0, std = 0.001)\n",
    "        \n",
    "    def forward(self, inputs, h):\n",
    "        output, h = self.rnn(inputs, h)         # h: 补齐 x1 -> y1 , 因为 y_i, h_i = sigma(x_i, h_{i - 1})\n",
    "\n",
    "        return output, h\n"
   ]
  },
  {
   "cell_type": "code",
   "execution_count": 11,
   "metadata": {},
   "outputs": [],
   "source": [
    "BATCHSIZE, hiddenLayers, hiddenUnits = 5, 10, 17\n",
    "model = Network(BATCHSIZE, hiddenLayers, hiddenUnits)\n",
    "# h0 = torch.zeros(BATCHSIZE, hiddenLayers, hiddenUnits)\n",
    "h0 = torch.zeros(hiddenLayers, BATCHSIZE, hiddenUnits)"
   ]
  },
  {
   "cell_type": "code",
   "execution_count": 12,
   "metadata": {},
   "outputs": [
    {
     "name": "stdout",
     "output_type": "stream",
     "text": [
      "torch.Size([5, 2, 17])\n",
      "torch.Size([10, 5, 17])\n"
     ]
    }
   ],
   "source": [
    "output, h = model(dataX, h0)\n",
    "print(output.shape)             # (BATCHSIZE, input_size(每个字符编码维度), units)\n",
    "print(h.shape)                  # (layers, BATCHSIZE, units)"
   ]
  },
  {
   "cell_type": "code",
   "execution_count": 13,
   "metadata": {},
   "outputs": [],
   "source": [
    "model = torchNN.LSTM(\n",
    "    input_size = 6,\n",
    "    hidden_size = 10,\n",
    "    num_layers = 1,\n",
    "    batch_first = True,\n",
    ")"
   ]
  },
  {
   "cell_type": "code",
   "execution_count": null,
   "metadata": {},
   "outputs": [],
   "source": []
  }
 ],
 "metadata": {
  "kernelspec": {
   "display_name": "Python 3",
   "language": "python",
   "name": "python3"
  },
  "language_info": {
   "codemirror_mode": {
    "name": "ipython",
    "version": 3
   },
   "file_extension": ".py",
   "mimetype": "text/x-python",
   "name": "python",
   "nbconvert_exporter": "python",
   "pygments_lexer": "ipython3",
   "version": "3.10.11"
  }
 },
 "nbformat": 4,
 "nbformat_minor": 2
}
