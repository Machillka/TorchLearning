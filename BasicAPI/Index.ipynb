{
 "cells": [
  {
   "cell_type": "code",
   "execution_count": 1,
   "metadata": {},
   "outputs": [],
   "source": [
    "import torch\n",
    "import numpy"
   ]
  },
  {
   "cell_type": "markdown",
   "metadata": {},
   "source": [
    "# `Bool Index`\n",
    "\n",
    "类似于一种 mask, 提供的 bool 为 True 则保留该元素, 若为 False, 则在副本中不包含此元素\n",
    "\n",
    "其中 mask 的维度要与 data 的前 m 维度对应"
   ]
  },
  {
   "cell_type": "code",
   "execution_count": 12,
   "metadata": {},
   "outputs": [
    {
     "name": "stdout",
     "output_type": "stream",
     "text": [
      "tensor([[[ 0,  1,  2],\n",
      "         [ 3,  4,  5]],\n",
      "\n",
      "        [[ 6,  7,  8],\n",
      "         [ 9, 10, 11]],\n",
      "\n",
      "        [[12, 13, 14],\n",
      "         [15, 16, 17]],\n",
      "\n",
      "        [[18, 19, 20],\n",
      "         [21, 22, 23]]])\n",
      "tensor([[[ 0,  1,  2],\n",
      "         [ 3,  4,  5]],\n",
      "\n",
      "        [[12, 13, 14],\n",
      "         [15, 16, 17]]])\n",
      "torch.Size([2, 2, 3])\n",
      "tensor([[ 0,  1,  2],\n",
      "        [ 9, 10, 11],\n",
      "        [12, 13, 14]])\n",
      "torch.Size([3, 3])\n"
     ]
    }
   ],
   "source": [
    "data = torch.arange(24).reshape(4, 2, 3)\n",
    "\n",
    "print(data)\n",
    "\n",
    "mask1 = torch.tensor([True, False, True, False], dtype = torch.bool)\n",
    "print(data[mask1])                              # 对 D_0 取\n",
    "print(data[mask1].shape)\n",
    "\n",
    "mask2 = torch.tensor([[True, False], [False, True], [True, False], [False, False]])\n",
    "print(data[mask2])\n",
    "print(data[mask2].shape)\n",
    "# 相当于把前两个维度展开，然后按照 True 和 False 来取数, 所以返回值的 shape 为 [Number(True), data.size(2)]"
   ]
  },
  {
   "cell_type": "markdown",
   "metadata": {},
   "source": [
    "#  `条件索引`\n",
    "\n",
    "在索引处传入条件表达式, 返回符合条件的数据, 并且展成 维度 m 的向量"
   ]
  },
  {
   "cell_type": "code",
   "execution_count": 15,
   "metadata": {},
   "outputs": [
    {
     "name": "stdout",
     "output_type": "stream",
     "text": [
      "torch.Size([10])\n"
     ]
    }
   ],
   "source": [
    "print(data[data < 10].shape)"
   ]
  }
 ],
 "metadata": {
  "kernelspec": {
   "display_name": "Python 3",
   "language": "python",
   "name": "python3"
  },
  "language_info": {
   "codemirror_mode": {
    "name": "ipython",
    "version": 3
   },
   "file_extension": ".py",
   "mimetype": "text/x-python",
   "name": "python",
   "nbconvert_exporter": "python",
   "pygments_lexer": "ipython3",
   "version": "3.10.11"
  }
 },
 "nbformat": 4,
 "nbformat_minor": 2
}
