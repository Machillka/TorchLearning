{
 "cells": [
  {
   "cell_type": "code",
   "execution_count": 8,
   "metadata": {},
   "outputs": [],
   "source": [
    "import torch.nn as torchNN\n",
    "import numpy as np"
   ]
  },
  {
   "cell_type": "code",
   "execution_count": 9,
   "metadata": {},
   "outputs": [],
   "source": [
    "model = torchNN.Sequential(\n",
    "    torchNN.Linear(10, 64),\n",
    "    torchNN.Sigmoid(),\n",
    "    torchNN.Linear(64, 10),\n",
    "    torchNN.Softmax()\n",
    ")"
   ]
  },
  {
   "cell_type": "code",
   "execution_count": 10,
   "metadata": {},
   "outputs": [
    {
     "name": "stdout",
     "output_type": "stream",
     "text": [
      "----------------------------------------------------------------\n",
      "        Layer (type)               Output Shape         Param #\n",
      "================================================================\n",
      "            Linear-1                   [-1, 64]             704\n",
      "           Sigmoid-2                   [-1, 64]               0\n",
      "            Linear-3                   [-1, 10]             650\n",
      "           Softmax-4                   [-1, 10]               0\n",
      "================================================================\n",
      "Total params: 1,354\n",
      "Trainable params: 1,354\n",
      "Non-trainable params: 0\n",
      "----------------------------------------------------------------\n",
      "Input size (MB): 0.00\n",
      "Forward/backward pass size (MB): 0.00\n",
      "Params size (MB): 0.01\n",
      "Estimated Total Size (MB): 0.01\n",
      "----------------------------------------------------------------\n"
     ]
    },
    {
     "name": "stderr",
     "output_type": "stream",
     "text": [
      "e:\\.scoop\\apps\\python310\\current\\lib\\site-packages\\torch\\nn\\modules\\module.py:1518: UserWarning: Implicit dimension choice for softmax has been deprecated. Change the call to include dim=X as an argument.\n",
      "  return self._call_impl(*args, **kwargs)\n"
     ]
    }
   ],
   "source": [
    "from torchsummary import summary\n",
    "\n",
    "summary(model, (10, ))"
   ]
  },
  {
   "cell_type": "code",
   "execution_count": 12,
   "metadata": {},
   "outputs": [
    {
     "name": "stdout",
     "output_type": "stream",
     "text": [
      "----------------------------------------------------------------\n",
      "        Layer (type)               Output Shape         Param #\n",
      "================================================================\n",
      "            Conv2d-1           [-1, 16, 32, 32]           1,216\n",
      "         LeakyReLU-2           [-1, 16, 32, 32]               0\n",
      "         MaxPool2d-3           [-1, 16, 16, 16]               0\n",
      "            Conv2d-4           [-1, 32, 16, 16]          12,832\n",
      "         LeakyReLU-5           [-1, 32, 16, 16]               0\n",
      "         MaxPool2d-6             [-1, 32, 8, 8]               0\n",
      "            Linear-7                   [-1, 64]         131,136\n",
      "         LeakyReLU-8                   [-1, 64]               0\n",
      "            Linear-9                   [-1, 32]           2,080\n",
      "        LeakyReLU-10                   [-1, 32]               0\n",
      "           Linear-11                   [-1, 10]             330\n",
      "================================================================\n",
      "Total params: 147,594\n",
      "Trainable params: 147,594\n",
      "Non-trainable params: 0\n",
      "----------------------------------------------------------------\n",
      "Input size (MB): 0.01\n",
      "Forward/backward pass size (MB): 0.42\n",
      "Params size (MB): 0.56\n",
      "Estimated Total Size (MB): 1.00\n",
      "----------------------------------------------------------------\n",
      "None\n"
     ]
    }
   ],
   "source": [
    "class Network(torchNN.Module):\n",
    "    def __init__(self):\n",
    "        super(Network, self).__init__()\n",
    "\n",
    "        self.conv1 = torchNN.Sequential(\n",
    "            torchNN.Conv2d(\n",
    "                in_channels = 3,\n",
    "                out_channels = 16,\n",
    "                kernel_size = 5,\n",
    "                stride = 1,\n",
    "                padding = 2\n",
    "            ),\n",
    "            # torchF.leaky_relu(),\n",
    "            torchNN.LeakyReLU(),\n",
    "            torchNN.MaxPool2d(2)\n",
    "        )\n",
    "        \n",
    "\n",
    "        self.conv2 = torchNN.Sequential(\n",
    "            torchNN.Conv2d(\n",
    "                in_channels = 16,\n",
    "                out_channels = 32,\n",
    "                kernel_size = 5,\n",
    "                stride = 1,\n",
    "                padding = 2\n",
    "            ),\n",
    "            # torchF.leaky_relu(),\n",
    "            torchNN.LeakyReLU(),\n",
    "            torchNN.MaxPool2d(2)\n",
    "        )\n",
    "\n",
    "        self.liner = torchNN.Sequential(\n",
    "            torchNN.Linear(32 * 8 * 8, 64),\n",
    "            torchNN.LeakyReLU(),\n",
    "            torchNN.Linear(64, 32),\n",
    "            torchNN.LeakyReLU(),\n",
    "            torchNN.Linear(32, 10)\n",
    "        )\n",
    "\n",
    "    \n",
    "    def forward(self, inputData):\n",
    "        x = self.conv1(inputData)\n",
    "        x = self.conv2(x)\n",
    "        x = x.view(x.size(0), -1)\n",
    "        x = self.liner(x)\n",
    "        return x\n",
    "    \n",
    "print(summary(Network(), (3, 32, 32)))"
   ]
  }
 ],
 "metadata": {
  "kernelspec": {
   "display_name": "Python 3",
   "language": "python",
   "name": "python3"
  },
  "language_info": {
   "codemirror_mode": {
    "name": "ipython",
    "version": 3
   },
   "file_extension": ".py",
   "mimetype": "text/x-python",
   "name": "python",
   "nbconvert_exporter": "python",
   "pygments_lexer": "ipython3",
   "version": "3.10.11"
  }
 },
 "nbformat": 4,
 "nbformat_minor": 2
}
