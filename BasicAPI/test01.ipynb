{
 "cells": [
  {
   "cell_type": "code",
   "execution_count": 160,
   "metadata": {},
   "outputs": [],
   "source": [
    "import torch\n",
    "import numpy as np\n",
    "import torch.nn.functional as torchF\n",
    "import torch.nn as torchNN\n",
    "import matplotlib.pyplot as plt\n",
    "from IPython import display\n",
    "from torchvision import datasets\n",
    "from torch.utils.data import DataLoader, random_split\n",
    "from torchvision.transforms import ToTensor, Lambda, Compose\n",
    "%matplotlib inline"
   ]
  },
  {
   "cell_type": "code",
   "execution_count": 161,
   "metadata": {},
   "outputs": [],
   "source": [
    "# class Network(torchNN.Module):\n",
    "#     def __init__(self) -> None:\n",
    "#         super(Network, self).__init__()\n",
    "\n",
    "#         self.layer = torchNN.Sequential(\n",
    "#             torchNN.Flatten(),\n",
    "#             torchNN.Linear(3 * 32 * 32, 128),\n",
    "#             torchNN.LeakyReLU(),\n",
    "#             torchNN.Linear(128, 64),\n",
    "#             torchNN.LeakyReLU(),\n",
    "#             torchNN.Linear(64, 10),\n",
    "#             torchNN.Softmax(dim = 0)\n",
    "#         )\n",
    "    \n",
    "#     def forward(self, inputData):\n",
    "#         # x = inputData.view(inputData.size(0), -1)\n",
    "#         return self.layer(inputData)\n",
    "class Network(torchNN.Module):\n",
    "    def __init__(self):\n",
    "        super(Network, self).__init__()\n",
    "\n",
    "        # self.conv1 = torchNN.Conv2d(\n",
    "        #     in_channels = 3,\n",
    "        #     out_channels = 6,\n",
    "        #     kernel_size = 5,\n",
    "        #     stride = 1,\n",
    "        #     padding = 2\n",
    "        # )\n",
    "        \n",
    "        # self.pool = torchNN.MaxPool2d(\n",
    "        #     kernel_size = 2, \n",
    "        #     stride = 2\n",
    "        # )\n",
    "\n",
    "        # self.conv2 = torchNN.Conv2d(\n",
    "        #     in_channels = 6,\n",
    "        #     out_channels = 16,\n",
    "        #     kernel_size = 5,\n",
    "        #     stride = 1,\n",
    "        #     padding = 2\n",
    "        # )\n",
    "\n",
    "        # self.liner1 = torchNN.Linear(16 * 5 * 5, 128)\n",
    "        # self.liner2 = torchNN.Linear(120, 32)\n",
    "        # self.liner3 = torchNN.Linear(32, 10)\n",
    "\n",
    "        self.conv1 = torchNN.Sequential(\n",
    "            torchNN.Conv2d(\n",
    "                in_channels = 3,\n",
    "                out_channels = 16,\n",
    "                kernel_size = 5,\n",
    "                stride = 1,\n",
    "                padding = 2\n",
    "            ),\n",
    "            # torchF.leaky_relu(),\n",
    "            torchNN.LeakyReLU(),\n",
    "            torchNN.MaxPool2d(2)\n",
    "        )\n",
    "        \n",
    "\n",
    "        self.conv2 = torchNN.Sequential(\n",
    "            torchNN.Conv2d(\n",
    "                in_channels = 16,\n",
    "                out_channels = 32,\n",
    "                kernel_size = 5,\n",
    "                stride = 1,\n",
    "                padding = 2\n",
    "            ),\n",
    "            # torchF.leaky_relu(),\n",
    "            torchNN.LeakyReLU(),\n",
    "            torchNN.MaxPool2d(2)\n",
    "        )\n",
    "\n",
    "        self.liner = torchNN.Sequential(\n",
    "            torchNN.Linear(32 * 8 * 8, 64),\n",
    "            torchNN.LeakyReLU(),\n",
    "            torchNN.Linear(64, 32),\n",
    "            torchNN.LeakyReLU(),\n",
    "            torchNN.Linear(32, 10),\n",
    "            # torchNN.Softmax(dim = 0)\n",
    "        )\n",
    "\n",
    "    \n",
    "    def forward(self, inputData):\n",
    "        x = self.conv1(inputData)\n",
    "        x = self.conv2(x)\n",
    "        x = x.view(x.size(0), -1)\n",
    "        x = self.liner(x)\n",
    "        return x\n",
    "    \n"
   ]
  },
  {
   "cell_type": "code",
   "execution_count": 162,
   "metadata": {},
   "outputs": [],
   "source": [
    "trainData = datasets.CIFAR10(\n",
    "    root = \"../Database\",\n",
    "    train = True,\n",
    "    download = False,\n",
    "    transform = ToTensor(),\n",
    ")\n"
   ]
  },
  {
   "cell_type": "code",
   "execution_count": 163,
   "metadata": {},
   "outputs": [],
   "source": [
    "trainData, testData = random_split(trainData, lengths = [int(len(trainData) * 0.01), int(len(trainData) * 0.99)])\n",
    "\n",
    "trainData = DataLoader(trainData, batch_size = 64)"
   ]
  },
  {
   "cell_type": "code",
   "execution_count": 164,
   "metadata": {},
   "outputs": [],
   "source": [
    "model = Network()\n",
    "optimizer = torch.optim.Adam(model.parameters(), lr = 0.003)\n",
    "lossFunction = torchNN.CrossEntropyLoss()"
   ]
  },
  {
   "cell_type": "code",
   "execution_count": 165,
   "metadata": {},
   "outputs": [],
   "source": [
    "epochs = 32\n",
    "\n",
    "history = {\n",
    "    'loss':[]\n",
    "}\n",
    "\n",
    "\n",
    "for epoch in range(epochs):\n",
    "    runtimeLoss = 0.0\n",
    "    for index, data in enumerate(trainData):\n",
    "        img, labels = data\n",
    "        optimizer.zero_grad()\n",
    "        outputs = model(img)\n",
    "        loss = lossFunction(outputs, labels)\n",
    "        loss.backward()\n",
    "        optimizer.step()\n",
    "        runtimeLoss += loss.item()\n",
    "\n",
    "    history['loss'].append(runtimeLoss)"
   ]
  },
  {
   "cell_type": "code",
   "execution_count": null,
   "metadata": {},
   "outputs": [
    {
     "data": {
      "text/plain": [
       "[<matplotlib.lines.Line2D at 0x25f15ff79a0>]"
      ]
     },
     "execution_count": 155,
     "metadata": {},
     "output_type": "execute_result"
    },
    {
     "data": {
      "image/png": "[encoded data removed]",
      "text/plain": [
       "<Figure size 640x480 with 1 Axes>"
      ]
     },
     "metadata": {},
     "output_type": "display_data"
    }
   ],
   "source": [
    "plt.plot(history['loss'])"
   ]
  }
 ],
 "metadata": {
  "kernelspec": {
   "display_name": "Python 3",
   "language": "python",
   "name": "python3"
  },
  "language_info": {
   "codemirror_mode": {
    "name": "ipython",
    "version": 3
   },
   "file_extension": ".py",
   "mimetype": "text/x-python",
   "name": "python",
   "nbconvert_exporter": "python",
   "pygments_lexer": "ipython3",
   "version": "3.10.11"
  }
 },
 "nbformat": 4,
 "nbformat_minor": 2
}
