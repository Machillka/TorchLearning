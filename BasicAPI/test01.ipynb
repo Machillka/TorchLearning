{
 "cells": [
  {
   "cell_type": "code",
   "execution_count": 174,
   "metadata": {},
   "outputs": [],
   "source": [
    "import torch\n",
    "import numpy as np\n",
    "import torch.nn.functional as torchF\n",
    "import torch.nn as torchNN\n",
    "import matplotlib.pyplot as plt\n",
    "from IPython import display\n",
    "from torchvision import datasets\n",
    "from torch.utils.data import DataLoader, random_split\n",
    "from torchvision.transforms import ToTensor, Lambda, Compose\n",
    "%matplotlib inline"
   ]
  },
  {
   "cell_type": "code",
   "execution_count": 175,
   "metadata": {},
   "outputs": [],
   "source": [
    "class Network(torchNN.Module):\n",
    "    def __init__(self):\n",
    "        super(Network, self).__init__()\n",
    "\n",
    "        self.conv1 = torchNN.Sequential(\n",
    "            torchNN.Conv2d(\n",
    "                in_channels = 3,\n",
    "                out_channels = 16,\n",
    "                kernel_size = 5,\n",
    "                stride = 1,\n",
    "                padding = 2\n",
    "            ),\n",
    "            # torchF.leaky_relu(),\n",
    "            torchNN.LeakyReLU(),\n",
    "            torchNN.MaxPool2d(2)\n",
    "        )\n",
    "        \n",
    "\n",
    "        self.conv2 = torchNN.Sequential(\n",
    "            torchNN.Conv2d(\n",
    "                in_channels = 16,\n",
    "                out_channels = 32,\n",
    "                kernel_size = 5,\n",
    "                stride = 1,\n",
    "                padding = 2\n",
    "            ),\n",
    "            # torchF.leaky_relu(),\n",
    "            torchNN.LeakyReLU(),\n",
    "            torchNN.MaxPool2d(2)\n",
    "        )\n",
    "\n",
    "        self.liner = torchNN.Sequential(\n",
    "            torchNN.Linear(32 * 8 * 8, 64),\n",
    "            torchNN.LeakyReLU(),\n",
    "            torchNN.Linear(64, 32),\n",
    "            torchNN.LeakyReLU(),\n",
    "            torchNN.Linear(32, 10),\n",
    "            torchNN.Softmax(dim = 0)\n",
    "        )\n",
    "\n",
    "    \n",
    "    def forward(self, inputData):\n",
    "        x = self.conv1(inputData)\n",
    "        x = self.conv2(x)\n",
    "        x = x.view(x.size(0), -1)\n",
    "        x = self.liner(x)\n",
    "        return x\n",
    "    \n"
   ]
  },
  {
   "cell_type": "code",
   "execution_count": 176,
   "metadata": {},
   "outputs": [],
   "source": [
    "trainData = datasets.CIFAR10(\n",
    "    root = \"../Database\",\n",
    "    train = True,\n",
    "    download = False,\n",
    "    transform = ToTensor(),\n",
    ")"
   ]
  },
  {
   "cell_type": "code",
   "execution_count": 177,
   "metadata": {},
   "outputs": [],
   "source": [
    "trainData, testData = random_split(trainData, lengths = [int(len(trainData) * 0.01), int(len(trainData) * 0.99)])\n",
    "\n",
    "trainData = DataLoader(trainData, batch_size = 64)"
   ]
  },
  {
   "cell_type": "code",
   "execution_count": 178,
   "metadata": {},
   "outputs": [],
   "source": [
    "model = Network()\n",
    "optimizer = torch.optim.Adam(model.parameters(), lr = 0.003)\n",
    "lossFunction = torchNN.CrossEntropyLoss()"
   ]
  },
  {
   "cell_type": "code",
   "execution_count": 179,
   "metadata": {},
   "outputs": [],
   "source": [
    "epochs = 32\n",
    "\n",
    "history = {\n",
    "    'loss':[]\n",
    "}\n",
    "\n",
    "\n",
    "for epoch in range(epochs):\n",
    "    runtimeLoss = 0.0\n",
    "    for index, data in enumerate(trainData):\n",
    "        img, labels = data\n",
    "        optimizer.zero_grad()\n",
    "        outputs = model(img)\n",
    "        loss = lossFunction(outputs, labels)\n",
    "        loss.backward()\n",
    "        optimizer.step()\n",
    "        runtimeLoss += loss.item()\n",
    "\n",
    "    history['loss'].append(runtimeLoss)"
   ]
  },
  {
   "cell_type": "code",
   "execution_count": 180,
   "metadata": {},
   "outputs": [
    {
     "data": {
      "text/plain": [
       "[<matplotlib.lines.Line2D at 0x25f00001960>]"
      ]
     },
     "execution_count": 180,
     "metadata": {},
     "output_type": "execute_result"
    },
    {
     "data": {
      "image/png": "[encoded data removed]",
      "text/plain": [
       "<Figure size 640x480 with 1 Axes>"
      ]
     },
     "metadata": {},
     "output_type": "display_data"
    }
   ],
   "source": [
    "plt.plot(history['loss'])"
   ]
  }
 ],
 "metadata": {
  "kernelspec": {
   "display_name": "Python 3",
   "language": "python",
   "name": "python3"
  },
  "language_info": {
   "codemirror_mode": {
    "name": "ipython",
    "version": 3
   },
   "file_extension": ".py",
   "mimetype": "text/x-python",
   "name": "python",
   "nbconvert_exporter": "python",
   "pygments_lexer": "ipython3",
   "version": "3.10.11"
  }
 },
 "nbformat": 4,
 "nbformat_minor": 2
}
