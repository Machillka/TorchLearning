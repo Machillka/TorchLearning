{
 "cells": [
  {
   "cell_type": "code",
   "execution_count": 32,
   "metadata": {},
   "outputs": [],
   "source": [
    "import torch\n",
    "import pandas\n",
    "import numpy as np\n",
    "import torch.nn.functional as F\n",
    "import matplotlib.pyplot as plt\n",
    "from torch import nn, Tensor\n",
    "\n",
    "%matplotlib inline"
   ]
  },
  {
   "cell_type": "code",
   "execution_count": 33,
   "metadata": {},
   "outputs": [],
   "source": [
    "class ResBlock(nn.Module):\n",
    "    def __init__(\n",
    "        self,\n",
    "        inputChannel: int,\n",
    "        outputChannel: int,\n",
    "        stride: int,\n",
    "        isUseConvolution: bool,\n",
    "    ) -> None:\n",
    "        \n",
    "        \"\"\"\n",
    "        Arguments:\n",
    "            inputChannel:       tell the input channel of inputX\n",
    "            outputChannel:      tell the output channel of inputX\n",
    "            stride:             if the stride == 2, the weight should be cut into half shape of origin inputX\n",
    "            isUseConvolution:   use the 1 * 1 Convolution to transfor the inputX's channel into outputChannel\n",
    "        \"\"\"\n",
    "\n",
    "        super(ResBlock, self).__init__()\n",
    "\n",
    "        self.__type_name__ = 'Resnet Block'\n",
    "\n",
    "        self.conv1 = nn.Conv2d(\n",
    "            inputChannel,\n",
    "            outputChannel,\n",
    "            3,\n",
    "            stride,\n",
    "            1\n",
    "        )\n",
    "\n",
    "        self.conv2 = nn.Conv2d(\n",
    "            outputChannel,\n",
    "            outputChannel,\n",
    "            3,\n",
    "            1,\n",
    "            1\n",
    "        )\n",
    "\n",
    "        if isUseConvolution:\n",
    "            self.conv3 = nn.Conv2d(\n",
    "                inputChannel,\n",
    "                outputChannel,\n",
    "                1,\n",
    "                stride\n",
    "            )\n",
    "        \n",
    "        self.bn1 = nn.BatchNorm2d(outputChannel)\n",
    "        self.bn2 = nn.BatchNorm2d(outputChannel)\n",
    "    \n",
    "    def forward(self, inputs) -> Tensor:\n",
    "        \"\"\"\n",
    "        from top to btn\n",
    "        Input Data\n",
    "            |\n",
    "        Convoluton(3 * 3)\n",
    "            |\n",
    "        Activation ReLU\n",
    "            |\n",
    "        Batch Normalization\n",
    "            |\n",
    "        Convolution(3 * 3)\n",
    "            |\n",
    "        Batch Normalization\n",
    "            |\n",
    "        Activation ReLU = f(Input Data) + O\n",
    "        \"\"\"\n",
    "        \n",
    "        Y = self.bn1( F.relu( self.conv1(inputs) ) )\n",
    "        print(Y.shape)\n",
    "        Y = self.bn2( self.conv2(Y) )\n",
    "        print(Y.shape)\n",
    "        # if haven't set the 1*1 convolution, F(x) = x + g(x)\n",
    "        if self.conv3:\n",
    "            inputs = self.conv3(inputs)\n",
    "            print(inputs.shape)\n",
    "        \n",
    "        Y += inputs\n",
    "\n",
    "        return F.relu(Y)"
   ]
  },
  {
   "cell_type": "code",
   "execution_count": 34,
   "metadata": {},
   "outputs": [
    {
     "name": "stdout",
     "output_type": "stream",
     "text": [
      "torch.Size([4, 6, 5, 5])\n",
      "torch.Size([4, 6, 5, 5])\n",
      "torch.Size([4, 6, 5, 5])\n"
     ]
    }
   ],
   "source": []
  }
 ],
 "metadata": {
  "kernelspec": {
   "display_name": "Python 3",
   "language": "python",
   "name": "python3"
  },
  "language_info": {
   "codemirror_mode": {
    "name": "ipython",
    "version": 3
   },
   "file_extension": ".py",
   "mimetype": "text/x-python",
   "name": "python",
   "nbconvert_exporter": "python",
   "pygments_lexer": "ipython3",
   "version": "3.10.11"
  }
 },
 "nbformat": 4,
 "nbformat_minor": 2
}
