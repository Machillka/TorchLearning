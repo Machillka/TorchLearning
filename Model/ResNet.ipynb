{
 "cells": [
  {
   "cell_type": "code",
   "execution_count": 2,
   "metadata": {},
   "outputs": [],
   "source": [
    "import torch\n",
    "import pandas\n",
    "import numpy as np\n",
    "import torch.nn.functional as F\n",
    "import matplotlib.pyplot as plt\n",
    "from torch import nn, Tensor\n",
    "from IPython import display\n",
    "from torchvision import datasets\n",
    "from torch.utils.data import DataLoader, random_split\n",
    "from torchvision.transforms import ToTensor\n",
    "\n",
    "%matplotlib inline"
   ]
  },
  {
   "cell_type": "code",
   "execution_count": 3,
   "metadata": {},
   "outputs": [],
   "source": [
    "class ResBlock(nn.Module):\n",
    "    def __init__(\n",
    "        self,\n",
    "        inputChannel: int,\n",
    "        outputChannel: int,\n",
    "        stride: int = 1,\n",
    "        isUseConvolution: bool = False,\n",
    "    ) -> None:\n",
    "        \"\"\"\n",
    "        Arguments:\n",
    "            inputChannel:       tell the input channel of inputX\n",
    "            outputChannel:      tell the output channel of inputX\n",
    "            stride:             if the stride == 2, the weight should be cut into half shape of origin inputX\n",
    "            isUseConvolution:   use the 1 * 1 Convolution to transfor the inputX's channel into outputChannel\n",
    "        \"\"\"\n",
    "\n",
    "        super(ResBlock, self).__init__()\n",
    "\n",
    "        self.__type_name__ = \"Resnet Block\"\n",
    "\n",
    "        self.conv1 = nn.Conv2d(inputChannel, outputChannel, 3, stride, 1)\n",
    "\n",
    "        self.conv2 = nn.Conv2d(outputChannel, outputChannel, 3, 1, 1)\n",
    "\n",
    "        if isUseConvolution:\n",
    "            self.conv3 = nn.Conv2d(inputChannel, outputChannel, 1, stride)\n",
    "        else:\n",
    "            self.conv3 = None\n",
    "\n",
    "        self.bn1 = nn.BatchNorm2d(outputChannel)\n",
    "        self.bn2 = nn.BatchNorm2d(outputChannel)\n",
    "\n",
    "    def forward(self, inputs) -> Tensor:\n",
    "        \"\"\"\n",
    "        from top to btn\n",
    "        Input Data\n",
    "            |\n",
    "        Convoluton(3 * 3)\n",
    "            |\n",
    "        Activation ReLU\n",
    "            |\n",
    "        Batch Normalization\n",
    "            |\n",
    "        Convolution(3 * 3)\n",
    "            |\n",
    "        Batch Normalization\n",
    "            |\n",
    "        Activation ReLU = f(Input Data) + O\n",
    "        \"\"\"\n",
    "\n",
    "        Y = self.bn1(F.relu(self.conv1(inputs)))\n",
    "        Y = self.bn2(self.conv2(Y))\n",
    "        # if haven't set the 1*1 convolution, F(x) = x + g(x)\n",
    "        if self.conv3:\n",
    "            inputs = self.conv3(inputs)\n",
    "\n",
    "        Y += inputs\n",
    "\n",
    "        return F.relu(Y)"
   ]
  },
  {
   "cell_type": "code",
   "execution_count": 4,
   "metadata": {},
   "outputs": [],
   "source": [
    "# data = torch.rand(1, 1, 28, 28)\n",
    "# bt1 = ResBlock(1, 10, 2, True)\n",
    "# bt2 = ResBlock(10, 10)\n",
    "\n",
    "# data = bt1(data)\n",
    "# data.shape\n",
    "# data = bt2(data)\n",
    "# data.shape\n",
    "\n",
    "# bt1 = ResBlock(10, 20, 2, True)\n",
    "# data = bt1(data)\n",
    "# data.shape\n",
    "\n",
    "\n"
   ]
  },
  {
   "cell_type": "code",
   "execution_count": 5,
   "metadata": {},
   "outputs": [],
   "source": [
    "# class Network(nn.Module):\n",
    "#     \"\"\"\n",
    "#     Arg:\n",
    "#         inputChannel:   The input depth of image\n",
    "#         labelNum:       classify\n",
    "#     \"\"\"\n",
    "\n",
    "#     def __init__(\n",
    "#         self,\n",
    "#         inputChannel: int,\n",
    "#         labelNum: int,\n",
    "#         layerNum: int,\n",
    "#     ) -> None:\n",
    "#         super().__init__()\n",
    "\n",
    "#         # weight: weight / 2; height: height * 2;[1, 28, 28] => [2, 14, 14]\n",
    "#         self.inputLayer = ResBlock(\n",
    "#             inputChannel,\n",
    "#             inputChannel * 2,\n",
    "#             2,\n",
    "#             True,\n",
    "#         )\n",
    "\n",
    "#         self.layers = []\n",
    "\n",
    "#         # do not change the weight and height\n",
    "#         for i in range(layerNum):\n",
    "#             self.layers.append(ResBlock(inputChannel * 2, inputChannel * 2))\n",
    "\n",
    "#         self.outputLayer = nn.Linear(2 * 14 * 14, labelNum)\n",
    "\n",
    "#         self.model = nn.Sequential(\n",
    "#             self.inputLayer,\n",
    "#             *self.layers,\n",
    "#             nn.AdaptiveAvgPool2d((1, 1)),\n",
    "#             nn.Flatten(),\n",
    "#             self.outputLayer,\n",
    "#         )\n",
    "\n",
    "#     def forward(self, inputs):\n",
    "#         return self.model(inputs)"
   ]
  },
  {
   "cell_type": "code",
   "execution_count": 6,
   "metadata": {},
   "outputs": [],
   "source": [
    "def CreateResBlok(\n",
    "    layerNum: int,\n",
    "    isFirstBlock: bool,\n",
    "    inputChannel: int,\n",
    "    outputChannel: int,\n",
    ") -> list:\n",
    "    block = []\n",
    "\n",
    "    # when the first block, we change the width -> width / 2; channel -> channel * 2\n",
    "    for i in range(layerNum):\n",
    "        if i == 0 or isFirstBlock:\n",
    "            block.append(ResBlock(inputChannel, outputChannel, 2, True))\n",
    "        else:\n",
    "            block.append(ResBlock(outputChannel, outputChannel))\n",
    "\n",
    "    return block"
   ]
  },
  {
   "cell_type": "code",
   "execution_count": 7,
   "metadata": {},
   "outputs": [],
   "source": [
    "def InstanceModel():\n",
    "    # (1, 28, 28) -> (16, 14, 14)\n",
    "    layer1 = CreateResBlok(3, False, 1, 16)\n",
    "    # (16, 14, 14) -> (32, 7, 7)\n",
    "    layer2 = CreateResBlok(3, False, 16, 32)\n",
    "\n",
    "    outputLayer = nn.Linear(32 * 7 * 7, 10)\n",
    "\n",
    "    model = nn.Sequential(*layer1, *layer2, nn.Flatten(), outputLayer)\n",
    "\n",
    "    return model"
   ]
  },
  {
   "cell_type": "code",
   "execution_count": 8,
   "metadata": {},
   "outputs": [],
   "source": [
    "DATA = datasets.MNIST(\n",
    "    root=\"../Database\", train=True, download=False, transform=ToTensor()\n",
    ")"
   ]
  },
  {
   "cell_type": "code",
   "execution_count": 9,
   "metadata": {},
   "outputs": [],
   "source": [
    "BATCHSIZE = 64\n",
    "LR = 1e-3\n",
    "\n",
    "model = InstanceModel()\n",
    "optimizer = torch.optim.Adam(model.parameters(), LR)\n",
    "lossFunction = nn.CrossEntropyLoss()"
   ]
  },
  {
   "cell_type": "code",
   "execution_count": 10,
   "metadata": {},
   "outputs": [
    {
     "name": "stdout",
     "output_type": "stream",
     "text": [
      "torch.Size([1, 16, 14, 14])\n",
      "torch.Size([1, 16, 14, 14])\n",
      "torch.Size([1, 16, 14, 14])\n",
      "torch.Size([1, 32, 7, 7])\n",
      "torch.Size([1, 32, 7, 7])\n",
      "torch.Size([1, 32, 7, 7])\n",
      "torch.Size([1, 1568])\n",
      "torch.Size([1, 10])\n"
     ]
    }
   ],
   "source": [
    "data = torch.rand(1, 1, 28, 28)\n",
    "\n",
    "for layer in model:\n",
    "    data = layer(data)\n",
    "    print(data.shape)"
   ]
  },
  {
   "cell_type": "code",
   "execution_count": 11,
   "metadata": {},
   "outputs": [],
   "source": [
    "trainData, testData = random_split(\n",
    "    DATA, lengths=[int(len(DATA) * 0.01), int(len(DATA) * 0.99)]\n",
    ")\n",
    "trainData = DataLoader(trainData, batch_size=BATCHSIZE)"
   ]
  },
  {
   "cell_type": "code",
   "execution_count": 12,
   "metadata": {},
   "outputs": [],
   "source": [
    "history = {\n",
    "    'loss': [],   \n",
    "}"
   ]
  },
  {
   "cell_type": "code",
   "execution_count": 14,
   "metadata": {},
   "outputs": [],
   "source": [
    "for i in range(10):\n",
    "    runtimeLoss = 0.0\n",
    "    for index, data in enumerate(trainData):\n",
    "        img, label = data\n",
    "\n",
    "        optimizer.zero_grad()\n",
    "        outputs = model(img)\n",
    "\n",
    "        loss = lossFunction(outputs, label)\n",
    "        loss.backward()\n",
    "        optimizer.step()\n",
    "\n",
    "        runtimeLoss += loss.data\n",
    "    history['loss'].append(runtimeLoss)"
   ]
  },
  {
   "cell_type": "code",
   "execution_count": 15,
   "metadata": {},
   "outputs": [
    {
     "data": {
      "text/plain": [
       "[<matplotlib.lines.Line2D at 0x18d73d1e0b0>]"
      ]
     },
     "execution_count": 15,
     "metadata": {},
     "output_type": "execute_result"
    },
    {
     "data": {
      "image/png": "[encoded data removed]",
      "text/plain": [
       "<Figure size 640x480 with 1 Axes>"
      ]
     },
     "metadata": {},
     "output_type": "display_data"
    }
   ],
   "source": [
    "plt.plot(history['loss'])"
   ]
  }
 ],
 "metadata": {
  "kernelspec": {
   "display_name": "Python 3",
   "language": "python",
   "name": "python3"
  },
  "language_info": {
   "codemirror_mode": {
    "name": "ipython",
    "version": 3
   },
   "file_extension": ".py",
   "mimetype": "text/x-python",
   "name": "python",
   "nbconvert_exporter": "python",
   "pygments_lexer": "ipython3",
   "version": "3.10.11"
  }
 },
 "nbformat": 4,
 "nbformat_minor": 2
}
