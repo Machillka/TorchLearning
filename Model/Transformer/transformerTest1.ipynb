{
 "cells": [
  {
   "cell_type": "code",
   "execution_count": 2,
   "metadata": {},
   "outputs": [],
   "source": [
    "import torch\n",
    "import numpy\n",
    "import torch.nn.functional as F\n",
    "import matplotlib.pyplot as plt\n",
    "\n",
    "from torch import tensor, Tensor, nn\n",
    "\n",
    "%matplotlib inline"
   ]
  },
  {
   "cell_type": "code",
   "execution_count": 3,
   "metadata": {},
   "outputs": [],
   "source": [
    "class MultHeadAttention(nn.Module):\n",
    "    def __init__(\n",
    "        self,\n",
    "        modelDim,\n",
    "        headNum,\n",
    "        dropout,\n",
    "    ) -> None:\n",
    "        \"\"\"\n",
    "        构建 多头 注意力机制 模块\n",
    "        Args:\n",
    "            modelDim:   词嵌入维度\n",
    "            headNum:    单个模块里头的个数\n",
    "\n",
    "        \"\"\"\n",
    "\n",
    "        assert modelDim % headNum == 0, \"Can't segment the code\"\n",
    "\n",
    "        super().__init__()\n",
    "\n",
    "        self.perDim = modelDim // headNum\n",
    "        self.modelDim = modelDim\n",
    "        self.headNum = headNum\n",
    "\n",
    "        # 将多头的参数整合成统计给一个线性层, 增加并行度\n",
    "        self.queayLinear = nn.Linear(modelDim, self.perDim * headNum)\n",
    "        self.keyLinear = nn.Linear(modelDim, self.perDim * headNum)\n",
    "        self.valueLinear = nn.Linear(modelDim, self.perDim * headNum)\n",
    "\n",
    "        self.outputLinear = nn.Linear(modelDim, modelDim)\n",
    "\n",
    "    def forward(self, key, query, value, attentionMask) -> Tensor:\n",
    "        batchSize = key.size(0)\n",
    "        res = query\n",
    "\n",
    "        key = self.keyLinear(key)\n",
    "        query = self.queayLinear(query)\n",
    "        value = self.valueLinear(value)\n",
    "\n",
    "        attentionOutput = key @ query.transpose(1, 2) / torch.sqrt(self.modelDim)\n",
    "\n",
    "        attentionOutput = torch.softmax(attentionOutput, dim = 2)\n",
    "\n",
    "        attentionOutput =  attentionOutput @ value\n",
    "\n",
    "        return attentionOutput"
   ]
  },
  {
   "cell_type": "code",
   "execution_count": 4,
   "metadata": {},
   "outputs": [],
   "source": [
    "class EncoderBlock(nn.Module):\n",
    "    def __init__(\n",
    "        self,\n",
    "        dModel: int,\n",
    "        dV: int,\n",
    "    ) -> None:\n",
    "        super(EncoderBlock, self).__init__()"
   ]
  },
  {
   "cell_type": "code",
   "execution_count": 16,
   "metadata": {},
   "outputs": [
    {
     "data": {
      "text/plain": [
       "torch.Size([64, 10, 10])"
      ]
     },
     "execution_count": 16,
     "metadata": {},
     "output_type": "execute_result"
    }
   ],
   "source": [
    "a = torch.rand(64, 10, 20)\n",
    "b = torch.rand(64, 10, 20)\n",
    "\n",
    "c = a @ b.transpose(1, 2) / 10.0\n",
    "c.shape"
   ]
  }
 ],
 "metadata": {
  "kernelspec": {
   "display_name": "Python 3",
   "language": "python",
   "name": "python3"
  },
  "language_info": {
   "codemirror_mode": {
    "name": "ipython",
    "version": 3
   },
   "file_extension": ".py",
   "mimetype": "text/x-python",
   "name": "python",
   "nbconvert_exporter": "python",
   "pygments_lexer": "ipython3",
   "version": "3.10.11"
  }
 },
 "nbformat": 4,
 "nbformat_minor": 2
}
