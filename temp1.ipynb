{
 "cells": [
  {
   "cell_type": "markdown",
   "metadata": {},
   "source": [
    "# List 列表\n",
    "\n",
    "### init\n",
    "```python\n",
    "a = list()\n",
    "a = [1, 2, 3]\n",
    "\n",
    "a = [i ** 2 for i in range(5)]\n",
    "\n",
    "a = []\n",
    "for i in range(5):\n",
    "    a.append(i)\n",
    "```\n",
    "\n",
    "### Usage\n",
    "\n",
    "#### 1. 取到list里面的数值\n",
    "使用下标访问\n",
    "e.g 使用 $ a[0] $: 访问到 a 里面的第一个元素\n",
    "\n",
    "使用负数访问\n",
    "$[-1]$ 表示最后一位\n",
    "\n",
    "#### 2. 添加元素\n",
    "1. 尾部插入 a.append(value)\n",
    "2. 任意位置的插入 a.insert(index, value): 表示在index的前面插入value\n",
    "\n",
    "#### 3. 删除元素\n",
    "pop(index), 返回值就是被删除的这个元素\n",
    "\n",
    "#### 4. 取区间元素\n",
    "Keyword: 切片\n",
    "$[start:end]$\n",
    "区间为：$[start, end)$\n",
    "\n",
    "#### 5. 遍历\n",
    "in\n",
    "```python\n",
    "for value in ListName: # ListName - > value\n",
    "    print(value)\n",
    "```\n"
   ]
  },
  {
   "cell_type": "code",
   "execution_count": 4,
   "metadata": {},
   "outputs": [
    {
     "name": "stdout",
     "output_type": "stream",
     "text": [
      "1\n",
      "2\n",
      "3\n",
      "Solve\n",
      "1.2\n",
      "[2, 3]\n"
     ]
    },
    {
     "data": {
      "text/plain": [
       "[100, 2, 3, 'Solve', 1.2, [2, 3]]"
      ]
     },
     "execution_count": 4,
     "metadata": {},
     "output_type": "execute_result"
    }
   ],
   "source": [
    "a = [1, 2, 3]\n",
    "\n",
    "a.append('Solve')\n",
    "a.append(1.2)\n",
    "a.append([2, 3])\n",
    "\n",
    "for i in range(len(a)): # 0, 1, 2, …, lengthA - 1\n",
    "    print(a[i])\n",
    "\n",
    "# removedValue = a.pop(3)\n",
    "a[-1]\n",
    "\n",
    "a[0] = 100\n",
    "a"
   ]
  },
  {
   "cell_type": "code",
   "execution_count": 16,
   "metadata": {},
   "outputs": [
    {
     "data": {
      "text/plain": [
       "[1, 4]"
      ]
     },
     "execution_count": 16,
     "metadata": {},
     "output_type": "execute_result"
    }
   ],
   "source": [
    "a = [i ** 2 for i in range(1, 6)]\n",
    "a[:2]"
   ]
  },
  {
   "cell_type": "markdown",
   "metadata": {},
   "source": [
    "# Tuple 元组\n",
    "(1, 2, value)"
   ]
  },
  {
   "cell_type": "code",
   "execution_count": 27,
   "metadata": {},
   "outputs": [],
   "source": [
    "def Foo(x, y):\n",
    "    return x, y, 1, 2, 5\n",
    "\n",
    "res = Foo(11, 22)"
   ]
  },
  {
   "cell_type": "code",
   "execution_count": 32,
   "metadata": {},
   "outputs": [
    {
     "data": {
      "text/plain": [
       "5"
      ]
     },
     "execution_count": 32,
     "metadata": {},
     "output_type": "execute_result"
    }
   ],
   "source": [
    "class Point():\n",
    "    def __init__(self, x, y) -> None:\n",
    "        self.x = x\n",
    "        self.y = y\n",
    "\n",
    "B = Point(5, 6)\n",
    "B.x"
   ]
  },
  {
   "cell_type": "code",
   "execution_count": 34,
   "metadata": {},
   "outputs": [
    {
     "name": "stdout",
     "output_type": "stream",
     "text": [
      "<class '__main__.Point'>\n"
     ]
    }
   ],
   "source": [
    "from collections import namedtuple\n",
    "\n",
    "point = namedtuple('Point', 'x y')\n",
    "\n",
    "A = point(2, 3)\n",
    "print(type(A))"
   ]
  },
  {
   "cell_type": "code",
   "execution_count": null,
   "metadata": {},
   "outputs": [],
   "source": []
  }
 ],
 "metadata": {
  "kernelspec": {
   "display_name": "Python 3",
   "language": "python",
   "name": "python3"
  },
  "language_info": {
   "codemirror_mode": {
    "name": "ipython",
    "version": 3
   },
   "file_extension": ".py",
   "mimetype": "text/x-python",
   "name": "python",
   "nbconvert_exporter": "python",
   "pygments_lexer": "ipython3",
   "version": "3.10.11"
  }
 },
 "nbformat": 4,
 "nbformat_minor": 2
}
